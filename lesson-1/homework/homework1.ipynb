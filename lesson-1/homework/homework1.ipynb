{
 "cells": [
  {
   "cell_type": "markdown",
   "id": "065db234",
   "metadata": {},
   "source": [
    "## Homework 1"
   ]
  },
  {
   "cell_type": "markdown",
   "id": "cb5a3194",
   "metadata": {},
   "source": [
    "1. Given a side of square. Find its perimeter and area."
   ]
  },
  {
   "cell_type": "code",
   "execution_count": null,
   "id": "3641fd0b",
   "metadata": {},
   "outputs": [
    {
     "data": {
      "text/plain": [
       "24"
      ]
     },
     "execution_count": 6,
     "metadata": {},
     "output_type": "execute_result"
    }
   ],
   "source": [
    "height = int(input('enter height'))\n",
    "width = height\n",
    "\n",
    "p = 2*(height + width)\n",
    "p"
   ]
  },
  {
   "cell_type": "code",
   "execution_count": 5,
   "id": "312002b3",
   "metadata": {},
   "outputs": [
    {
     "data": {
      "text/plain": [
       "36"
      ]
     },
     "execution_count": 5,
     "metadata": {},
     "output_type": "execute_result"
    }
   ],
   "source": [
    "height = int(input('enter height'))\n",
    "width = height\n",
    "\n",
    "a = (height * width)\n",
    "a"
   ]
  },
  {
   "cell_type": "markdown",
   "id": "35a716b6",
   "metadata": {},
   "source": [
    "2. Given diameter of circle. Find its length."
   ]
  },
  {
   "cell_type": "code",
   "execution_count": 10,
   "id": "5303fda2",
   "metadata": {},
   "outputs": [
    {
     "data": {
      "text/plain": [
       "12.56636"
      ]
     },
     "execution_count": 10,
     "metadata": {},
     "output_type": "execute_result"
    }
   ],
   "source": [
    "diameter = float(input('enter diameter'))\n",
    "math_pi = 3.14159\n",
    "l = math_pi * diameter\n",
    "l"
   ]
  },
  {
   "cell_type": "markdown",
   "id": "8006f8e9",
   "metadata": {},
   "source": [
    "3. Given two numbers a and b. Find their mean."
   ]
  },
  {
   "cell_type": "code",
   "execution_count": 13,
   "id": "598616aa",
   "metadata": {},
   "outputs": [
    {
     "data": {
      "text/plain": [
       "6.75"
      ]
     },
     "execution_count": 13,
     "metadata": {},
     "output_type": "execute_result"
    }
   ],
   "source": [
    "a = float(input('enter number'))\n",
    "b = float(input('enter number'))\n",
    "data = [a, b]\n",
    "import statistics\n",
    "m = statistics.mean(data)\n",
    "m"
   ]
  },
  {
   "cell_type": "markdown",
   "id": "68a44f41",
   "metadata": {},
   "source": [
    "4. Given two numbers a and b. Find their sum, product and square of each number."
   ]
  },
  {
   "cell_type": "code",
   "execution_count": 14,
   "id": "32882753",
   "metadata": {},
   "outputs": [
    {
     "data": {
      "text/plain": [
       "11.0"
      ]
     },
     "execution_count": 14,
     "metadata": {},
     "output_type": "execute_result"
    }
   ],
   "source": [
    "a = float(input('enter number'))\n",
    "b = float(input('enter number'))\n",
    "sum = a + b\n",
    "sum"
   ]
  },
  {
   "cell_type": "code",
   "execution_count": 15,
   "id": "26ce1025",
   "metadata": {},
   "outputs": [
    {
     "data": {
      "text/plain": [
       "30.0"
      ]
     },
     "execution_count": 15,
     "metadata": {},
     "output_type": "execute_result"
    }
   ],
   "source": [
    "a = float(input('enter number'))\n",
    "b = float(input('enter number'))\n",
    "product = a * b\n",
    "product"
   ]
  },
  {
   "cell_type": "code",
   "execution_count": null,
   "id": "e50813ef",
   "metadata": {},
   "outputs": [
    {
     "data": {
      "text/plain": [
       "25.0"
      ]
     },
     "execution_count": 16,
     "metadata": {},
     "output_type": "execute_result"
    }
   ],
   "source": [
    "a = float(input('enter number'))\n",
    "square = a**2\n",
    "square"
   ]
  },
  {
   "cell_type": "code",
   "execution_count": 17,
   "id": "f08e2d71",
   "metadata": {},
   "outputs": [
    {
     "data": {
      "text/plain": [
       "36.0"
      ]
     },
     "execution_count": 17,
     "metadata": {},
     "output_type": "execute_result"
    }
   ],
   "source": [
    "b = float(input('enter number'))\n",
    "square = b**2\n",
    "square"
   ]
  }
 ],
 "metadata": {
  "kernelspec": {
   "display_name": "Python 3",
   "language": "python",
   "name": "python3"
  },
  "language_info": {
   "codemirror_mode": {
    "name": "ipython",
    "version": 3
   },
   "file_extension": ".py",
   "mimetype": "text/x-python",
   "name": "python",
   "nbconvert_exporter": "python",
   "pygments_lexer": "ipython3",
   "version": "3.12.10"
  }
 },
 "nbformat": 4,
 "nbformat_minor": 5
}
