{
 "cells": [
  {
   "cell_type": "markdown",
   "id": "8f579976",
   "metadata": {},
   "source": [
    "## Homework 4\n",
    "\n",
    "## Dictionary Exercises"
   ]
  },
  {
   "cell_type": "code",
   "execution_count": 1,
   "id": "a5765c08",
   "metadata": {},
   "outputs": [
    {
     "name": "stdout",
     "output_type": "stream",
     "text": [
      "Ascending: {'banana': 2, 'date': 7, 'apple': 10, 'cherry': 15}\n",
      "Descending: {'cherry': 15, 'apple': 10, 'date': 7, 'banana': 2}\n"
     ]
    }
   ],
   "source": [
    "# Write a Python script to sort (ascending and descending) a dictionary by value.\n",
    "\n",
    "d1 = {'apple': 10, 'banana': 2, 'cherry': 15, 'date': 7}\n",
    "\n",
    "# Sort dictionary by value in ascending order\n",
    "asc = dict(sorted(d1.items(), key=lambda x: x[1]))\n",
    "print(\"Ascending:\", asc)\n",
    "\n",
    "# Sort dictionary by value in descending order\n",
    "desc = dict(sorted(d1.items(), key=lambda x: x[1], reverse=True))\n",
    "print(\"Descending:\", desc)"
   ]
  },
  {
   "cell_type": "code",
   "execution_count": 2,
   "id": "a7d9c4e3",
   "metadata": {},
   "outputs": [
    {
     "name": "stdout",
     "output_type": "stream",
     "text": [
      "{0: 10, 1: 20, 2: 30}\n"
     ]
    }
   ],
   "source": [
    "# Write a Python script to add a key to a dictionary.\n",
    "\n",
    "d2 = {0: 10, 1: 20}\n",
    "\n",
    "d2.update({2: 30})\n",
    "\n",
    "print(d2)"
   ]
  },
  {
   "cell_type": "code",
   "execution_count": 5,
   "id": "b06f6ee9",
   "metadata": {},
   "outputs": [
    {
     "name": "stdout",
     "output_type": "stream",
     "text": [
      "{1: 10, 2: 20, 3: 30, 4: 40, 5: 50, 6: 60}\n"
     ]
    }
   ],
   "source": [
    "# Write a Python script to concatenate the following dictionaries to create a new one.\n",
    "\n",
    "dic1 = {1: 10, 2: 20}\n",
    "dic2 = {3: 30, 4: 40}\n",
    "dic3 = {5: 50, 6: 60}\n",
    "\n",
    "# Concatenate dictionaries\n",
    "result = {**dic1, **dic2, **dic3}\n",
    "\n",
    "print(result)"
   ]
  },
  {
   "cell_type": "code",
   "execution_count": 6,
   "id": "058e06d6",
   "metadata": {},
   "outputs": [
    {
     "name": "stdout",
     "output_type": "stream",
     "text": [
      "{1: 1, 2: 4, 3: 9, 4: 16, 5: 25}\n"
     ]
    }
   ],
   "source": [
    "# Write a Python script to generate and print a dictionary that contains a number (between 1 and n) in the form (x, x*x).\n",
    "\n",
    "# Define the value of n\n",
    "n = 5\n",
    "\n",
    "# Generate the dictionary\n",
    "generated_dict = {x: x*x for x in range(1, n+1)}\n",
    "\n",
    "# Print the result\n",
    "print(generated_dict)"
   ]
  },
  {
   "cell_type": "code",
   "execution_count": 8,
   "id": "e9942b0c",
   "metadata": {},
   "outputs": [
    {
     "name": "stdout",
     "output_type": "stream",
     "text": [
      "{1: 1, 2: 4, 3: 9, 4: 16, 5: 25, 6: 36, 7: 49, 8: 64, 9: 81, 10: 100, 11: 121, 12: 144, 13: 169, 14: 196, 15: 225}\n"
     ]
    }
   ],
   "source": [
    "# Write a Python script to print a dictionary where the keys are numbers between 1 and 15 (both included) and the values are the square of the keys.\n",
    "\n",
    "# Define the value of n\n",
    "n = 15\n",
    "\n",
    "# Generate the dictionary\n",
    "squared_dict = {x: x**2 for x in range(1, n+1)}\n",
    "\n",
    "# Print the result\n",
    "print(squared_dict)"
   ]
  },
  {
   "cell_type": "markdown",
   "id": "75c0624e",
   "metadata": {},
   "source": [
    "## Set Exercises"
   ]
  },
  {
   "cell_type": "code",
   "execution_count": 9,
   "id": "8ce4bd66",
   "metadata": {},
   "outputs": [
    {
     "name": "stdout",
     "output_type": "stream",
     "text": [
      "Created set: {1, 2, 3, 4, 5}\n"
     ]
    }
   ],
   "source": [
    "# Write a Python program to create a set.\n",
    "\n",
    "# Create a set with some initial values\n",
    "set1 = {1, 2, 3, 4, 5}\n",
    "\n",
    "# Print the set\n",
    "print(\"Created set:\", set1)"
   ]
  },
  {
   "cell_type": "code",
   "execution_count": 11,
   "id": "c21ec648",
   "metadata": {},
   "outputs": [
    {
     "name": "stdout",
     "output_type": "stream",
     "text": [
      "Iterating over the set:\n",
      "apple\n",
      "cherry\n",
      "banana\n",
      "date\n"
     ]
    }
   ],
   "source": [
    "# Write a Python program to iterate over sets.\n",
    "\n",
    "# Define a set\n",
    "set2 = {\"apple\", \"banana\", \"cherry\", \"date\"}\n",
    "\n",
    "# Iterate over the set and print each element\n",
    "print(\"Iterating over the set:\")\n",
    "for item in set2:\n",
    "    print(item)"
   ]
  },
  {
   "cell_type": "code",
   "execution_count": 12,
   "id": "6f841a61",
   "metadata": {},
   "outputs": [
    {
     "name": "stdout",
     "output_type": "stream",
     "text": [
      "Updated set: {'fig', 'apple', 'date', 'cherry', 'elderberry', 'banana'}\n"
     ]
    }
   ],
   "source": [
    "# Write a Python program to add member(s) to a set.\n",
    "\n",
    "# Create an initial set\n",
    "set = {\"apple\", \"banana\"}\n",
    "\n",
    "# Add a single element\n",
    "set.add(\"cherry\")\n",
    "\n",
    "# Add multiple elements using update()\n",
    "set.update([\"date\", \"elderberry\", \"fig\"])\n",
    "\n",
    "# Print the updated set\n",
    "print(\"Updated set:\", set)"
   ]
  },
  {
   "cell_type": "code",
   "execution_count": 14,
   "id": "ed2395d7",
   "metadata": {},
   "outputs": [
    {
     "name": "stdout",
     "output_type": "stream",
     "text": [
      "Updated set: {'date'}\n",
      "Popped item: apple\n"
     ]
    }
   ],
   "source": [
    "# Write a Python program to remove item(s) from a given set.\n",
    "\n",
    "# Create a set\n",
    "set = {\"apple\", \"banana\", \"cherry\", \"date\"}\n",
    "\n",
    "# Remove a specific item using remove()\n",
    "set.remove(\"banana\")  # Raises KeyError if item not found\n",
    "\n",
    "# Remove a specific item using discard()\n",
    "set.discard(\"cherry\")  # Does NOT raise error if item not found\n",
    "\n",
    "# Remove and return a random item using pop()\n",
    "removed_item = set.pop()\n",
    "\n",
    "# Print the updated set and the popped item\n",
    "print(\"Updated set:\", set)\n",
    "print(\"Popped item:\", removed_item)"
   ]
  },
  {
   "cell_type": "code",
   "execution_count": 15,
   "id": "449aff88",
   "metadata": {},
   "outputs": [
    {
     "name": "stdout",
     "output_type": "stream",
     "text": [
      "Updated set: {'apple', 'cherry'}\n"
     ]
    }
   ],
   "source": [
    "# Write a Python program to remove an item from a set if it is present in the set.\n",
    "\n",
    "# Create a set\n",
    "my_set = {\"apple\", \"banana\", \"cherry\"}\n",
    "\n",
    "# Item to remove\n",
    "item_to_remove = \"banana\"\n",
    "\n",
    "# Remove item safely\n",
    "my_set.discard(item_to_remove)\n",
    "\n",
    "# Print the updated set\n",
    "print(\"Updated set:\", my_set)"
   ]
  }
 ],
 "metadata": {
  "kernelspec": {
   "display_name": "Python 3",
   "language": "python",
   "name": "python3"
  },
  "language_info": {
   "codemirror_mode": {
    "name": "ipython",
    "version": 3
   },
   "file_extension": ".py",
   "mimetype": "text/x-python",
   "name": "python",
   "nbconvert_exporter": "python",
   "pygments_lexer": "ipython3",
   "version": "3.12.10"
  }
 },
 "nbformat": 4,
 "nbformat_minor": 5
}
