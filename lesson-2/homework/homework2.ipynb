{
 "cells": [
  {
   "cell_type": "markdown",
   "id": "702e324d",
   "metadata": {},
   "source": [
    "## Homework 2"
   ]
  },
  {
   "cell_type": "code",
   "execution_count": 2,
   "id": "a637f4b4",
   "metadata": {},
   "outputs": [
    {
     "name": "stdout",
     "output_type": "stream",
     "text": [
      "Hello, Shohruh! You are 35 years old.\n"
     ]
    }
   ],
   "source": [
    "from datetime import datetime\n",
    "\n",
    "name = input(\"Enter your name: \")\n",
    "year_of_birth = int(input(\"Enter your year of birth: \"))\n",
    "current_year = datetime.now().year\n",
    "age = current_year - year_of_birth\n",
    "\n",
    "print(f\"Hello, {name}! You are {age} years old.\")"
   ]
  },
  {
   "cell_type": "code",
   "execution_count": 3,
   "id": "c7da09b4",
   "metadata": {},
   "outputs": [
    {
     "data": {
      "text/plain": [
       "'Lasetti'"
      ]
     },
     "execution_count": 3,
     "metadata": {},
     "output_type": "execute_result"
    }
   ],
   "source": [
    "txt = 'LMaasleitbtui'\n",
    "txt[::2]"
   ]
  },
  {
   "cell_type": "code",
   "execution_count": 4,
   "id": "68caffae",
   "metadata": {},
   "outputs": [
    {
     "data": {
      "text/plain": [
       "'Malibu'"
      ]
     },
     "execution_count": 4,
     "metadata": {},
     "output_type": "execute_result"
    }
   ],
   "source": [
    "txt[1::2]"
   ]
  },
  {
   "cell_type": "code",
   "execution_count": 6,
   "id": "4030f993",
   "metadata": {},
   "outputs": [
    {
     "name": "stdout",
     "output_type": "stream",
     "text": [
      "Residence area: London\n"
     ]
    }
   ],
   "source": [
    "# Extract the residence area from the following text\n",
    "txt = \"I'am John. I am from London\"\n",
    "\n",
    "import re\n",
    "match = re.search(r\"I am from (\\w+)\", txt)\n",
    "if match:\n",
    "    residence = match.group(1)\n",
    "    print(\"Residence area:\", residence)\n",
    "else:\n",
    "    print(\"Residence area not found.\")"
   ]
  },
  {
   "cell_type": "code",
   "execution_count": 7,
   "id": "cd7cdd1b",
   "metadata": {},
   "outputs": [
    {
     "name": "stdout",
     "output_type": "stream",
     "text": [
      "Reversed string: rehsila\n"
     ]
    }
   ],
   "source": [
    "word = input(\"Enter a string: \")\n",
    "\n",
    "drow = word[::-1]\n",
    "\n",
    "print(\"Reversed string:\", drow)"
   ]
  },
  {
   "cell_type": "code",
   "execution_count": 8,
   "id": "1f6279d0",
   "metadata": {},
   "outputs": [
    {
     "name": "stdout",
     "output_type": "stream",
     "text": [
      "Number of vowels: 2\n"
     ]
    }
   ],
   "source": [
    "text = input(\"Enter a string: \")\n",
    "\n",
    "vowels = \"aeiouAEIOU\"\n",
    "count = 0\n",
    "for char in text:\n",
    "    if char in vowels:\n",
    "        count += 1\n",
    "\n",
    "print(f\"Number of vowels: {count}\")"
   ]
  },
  {
   "cell_type": "code",
   "execution_count": 10,
   "id": "4eb6df1d",
   "metadata": {},
   "outputs": [
    {
     "name": "stdout",
     "output_type": "stream",
     "text": [
      "Maximum value: 94\n"
     ]
    }
   ],
   "source": [
    "numbers = input(\"Enter numbers separated by spaces: \")\n",
    "\n",
    "num_list = list(map(int, numbers.split()))\n",
    "\n",
    "max_value = max(num_list)\n",
    "\n",
    "print(\"Maximum value:\", max_value)"
   ]
  },
  {
   "cell_type": "code",
   "execution_count": 13,
   "id": "b0187ea4",
   "metadata": {},
   "outputs": [
    {
     "name": "stdout",
     "output_type": "stream",
     "text": [
      "'Abba' is a palindrome.\n"
     ]
    }
   ],
   "source": [
    "word = input(\"Enter a word: \")\n",
    "\n",
    "word_lower = word.lower()\n",
    "\n",
    "if word_lower == word_lower[::-1]:\n",
    "    print(f\"'{word}' is a palindrome.\")\n",
    "else:\n",
    "    print(f\"'{word}' is not a palindrome.\")"
   ]
  },
  {
   "cell_type": "code",
   "execution_count": 15,
   "id": "bef3d1d3",
   "metadata": {},
   "outputs": [
    {
     "name": "stdout",
     "output_type": "stream",
     "text": [
      "Domain: iuj.ac.jp\n"
     ]
    }
   ],
   "source": [
    "email = input(\"Enter your email address: \")\n",
    "\n",
    "if '@' in email:\n",
    "    domain = email.split('@')[1]\n",
    "    print(\"Domain:\", domain)\n",
    "else:\n",
    "    print(\"Invalid email address. No '@' symbol found.\")"
   ]
  },
  {
   "cell_type": "code",
   "execution_count": 27,
   "id": "b681a0ce",
   "metadata": {},
   "outputs": [
    {
     "name": "stdout",
     "output_type": "stream",
     "text": [
      "Random password: 6==x4_ce9*co\n"
     ]
    }
   ],
   "source": [
    "import random\n",
    "import string\n",
    "\n",
    "def generate_password(length=12):\n",
    "   \n",
    "    letters = string.ascii_letters  \n",
    "    digits = string.digits          \n",
    "    special_chars = string.punctuation  \n",
    "\n",
    "    all_chars = letters + digits + special_chars\n",
    "\n",
    "    password = [\n",
    "        random.choice(letters),\n",
    "        random.choice(digits),\n",
    "        random.choice(special_chars)\n",
    "    ]\n",
    "\n",
    "    password += random.choices(all_chars, k=length - 3)\n",
    "\n",
    "    random.shuffle(password)\n",
    "\n",
    "    return ''.join(password)\n",
    "\n",
    "print(\"Random password:\", generate_password(12))"
   ]
  }
 ],
 "metadata": {
  "kernelspec": {
   "display_name": "Python 3",
   "language": "python",
   "name": "python3"
  },
  "language_info": {
   "codemirror_mode": {
    "name": "ipython",
    "version": 3
   },
   "file_extension": ".py",
   "mimetype": "text/x-python",
   "name": "python",
   "nbconvert_exporter": "python",
   "pygments_lexer": "ipython3",
   "version": "3.12.10"
  }
 },
 "nbformat": 4,
 "nbformat_minor": 5
}
