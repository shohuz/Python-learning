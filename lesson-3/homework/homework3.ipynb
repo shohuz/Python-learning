{
 "cells": [
  {
   "cell_type": "markdown",
   "id": "2a2bdb8e",
   "metadata": {},
   "source": [
    "## Homework 3"
   ]
  },
  {
   "cell_type": "code",
   "execution_count": 1,
   "id": "c7780f24",
   "metadata": {},
   "outputs": [
    {
     "name": "stdout",
     "output_type": "stream",
     "text": [
      "cherry\n"
     ]
    }
   ],
   "source": [
    "# Create a list containing five different fruits and print the third fruit.\n",
    "fruits = [\"apple\", \"banana\", \"cherry\", \"date\", \"elderberry\"]\n",
    "print(fruits[2])"
   ]
  },
  {
   "cell_type": "code",
   "execution_count": 2,
   "id": "0ea65967",
   "metadata": {},
   "outputs": [
    {
     "name": "stdout",
     "output_type": "stream",
     "text": [
      "[1, 2, 3, 4, 5, 6]\n"
     ]
    }
   ],
   "source": [
    "# Create two lists of numbers and concatenate them into a single list.\n",
    "list1 = [1, 2, 3]\n",
    "list2 = [4, 5, 6]\n",
    "\n",
    "combined_list = list1 + list2\n",
    "print(combined_list)"
   ]
  },
  {
   "cell_type": "code",
   "execution_count": 3,
   "id": "8af708fa",
   "metadata": {},
   "outputs": [
    {
     "name": "stdout",
     "output_type": "stream",
     "text": [
      "[2, 19, 43]\n"
     ]
    }
   ],
   "source": [
    "# Given a list of numbers, extract the first, middle, and last elements and store them in a new list.\n",
    "numbers = [2, 9, 15, 19, 28, 31, 43]\n",
    "\n",
    "first = numbers[0]\n",
    "middle = numbers[len(numbers) // 2]  # integer division to find the middle index\n",
    "last = numbers[-1]\n",
    "\n",
    "new_list = [first, middle, last]\n",
    "print(new_list)"
   ]
  },
  {
   "cell_type": "code",
   "execution_count": 4,
   "id": "c8d26d97",
   "metadata": {},
   "outputs": [
    {
     "name": "stdout",
     "output_type": "stream",
     "text": [
      "('Titanic', 'The Matrix', 'Interstellar', 'The Dark Knight', 'Parasite')\n"
     ]
    }
   ],
   "source": [
    "# Create a list of your five favorite movies and convert it into a tuple.\n",
    "favorite_movies = [\"Titanic\", \"The Matrix\", \"Interstellar\", \"The Dark Knight\", \"Parasite\"]\n",
    "movies_tuple = tuple(favorite_movies)\n",
    "print(movies_tuple)"
   ]
  },
  {
   "cell_type": "code",
   "execution_count": 5,
   "id": "6ee8cc86",
   "metadata": {},
   "outputs": [
    {
     "name": "stdout",
     "output_type": "stream",
     "text": [
      "Paris is not in the list.\n"
     ]
    }
   ],
   "source": [
    "# Given a list of cities, check if \"Paris\" is in the list and print the result.\n",
    "cities = [\"New York\", \"London\", \"Berlin\", \"Tokyo\", \"Singapur\"]\n",
    "\n",
    "if \"Paris\" in cities:\n",
    "    print(\"Paris is in the list!\")\n",
    "else:\n",
    "    print(\"Paris is not in the list.\")"
   ]
  },
  {
   "cell_type": "code",
   "execution_count": 6,
   "id": "6efbe555",
   "metadata": {},
   "outputs": [
    {
     "data": {
      "text/plain": [
       "[1, 2, 3, 4, 5, 6, 1, 2, 3, 4, 5, 6]"
      ]
     },
     "execution_count": 6,
     "metadata": {},
     "output_type": "execute_result"
    }
   ],
   "source": [
    "# Create a list of numbers and duplicate it without using loops.\n",
    "list1 = [1, 2, 3, 4, 5, 6]\n",
    "list2 = list1 * 2\n",
    "list2\n"
   ]
  },
  {
   "cell_type": "code",
   "execution_count": 7,
   "id": "b7f69af5",
   "metadata": {},
   "outputs": [
    {
     "name": "stdout",
     "output_type": "stream",
     "text": [
      "[50, 20, 30, 40, 10]\n"
     ]
    }
   ],
   "source": [
    "# Given a list of numbers, swap the first and last elements.\n",
    "numbers = [10, 20, 30, 40, 50]\n",
    "\n",
    "# Swap first and last elements\n",
    "numbers[0], numbers[-1] = numbers[-1], numbers[0]\n",
    "\n",
    "print(numbers)"
   ]
  },
  {
   "cell_type": "code",
   "execution_count": 8,
   "id": "4ffebdc8",
   "metadata": {},
   "outputs": [
    {
     "name": "stdout",
     "output_type": "stream",
     "text": [
      "(4, 5, 6, 7, 8)\n"
     ]
    }
   ],
   "source": [
    "# Create a tuple of numbers from 1 to 10 and print a slice from index 3 to 7.\n",
    "numbers = tuple(range(1, 11))  # Creates a tuple (1, 2, ..., 10)\n",
    "slice_numbers = numbers[3:8]   # Slicing from index 3 up to (but not including) 8\n",
    "print(slice_numbers)\n"
   ]
  },
  {
   "cell_type": "code",
   "execution_count": 9,
   "id": "fd1c8f78",
   "metadata": {},
   "outputs": [
    {
     "name": "stdout",
     "output_type": "stream",
     "text": [
      "\"blue\" appears 3 times in the list.\n"
     ]
    }
   ],
   "source": [
    "# Create a list of colors and count how many times \"blue\" appears in the list.\n",
    "colors = [\"red\", \"blue\", \"green\", \"blue\", \"yellow\", \"blue\", \"purple\"]\n",
    "blue_count = colors.count(\"blue\")\n",
    "print(f'\"blue\" appears {blue_count} times in the list.')"
   ]
  },
  {
   "cell_type": "code",
   "execution_count": 10,
   "id": "5c82a39c",
   "metadata": {},
   "outputs": [
    {
     "name": "stdout",
     "output_type": "stream",
     "text": [
      "The index of \"lion\" is 2.\n"
     ]
    }
   ],
   "source": [
    "# Given a tuple of animals, find the index of \"lion\".\n",
    "animals = (\"elephant\", \"tiger\", \"lion\", \"giraffe\", \"zebra\")\n",
    "\n",
    "index_lion = animals.index(\"lion\")\n",
    "print(f'The index of \"lion\" is {index_lion}.')"
   ]
  },
  {
   "cell_type": "code",
   "execution_count": 11,
   "id": "2e911836",
   "metadata": {},
   "outputs": [
    {
     "name": "stdout",
     "output_type": "stream",
     "text": [
      "(1, 2, 3, 4, 5, 6)\n"
     ]
    }
   ],
   "source": [
    "# Create two tuples of numbers and merge them into a single tuple.\n",
    "tuple1 = (1, 2, 3)\n",
    "tuple2 = (4, 5, 6)\n",
    "\n",
    "merged_tuple = tuple1 + tuple2\n",
    "print(merged_tuple)"
   ]
  },
  {
   "cell_type": "code",
   "execution_count": 12,
   "id": "bf84c642",
   "metadata": {},
   "outputs": [
    {
     "name": "stdout",
     "output_type": "stream",
     "text": [
      "Length of the list: 5\n",
      "Length of the tuple: 4\n"
     ]
    }
   ],
   "source": [
    "# Given a list and a tuple, find and print their lengths.\n",
    "my_list = [10, 20, 30, 40, 50]\n",
    "my_tuple = (5, 15, 25, 35)\n",
    "\n",
    "list_length = len(my_list)\n",
    "tuple_length = len(my_tuple)\n",
    "\n",
    "print(f'Length of the list: {list_length}')\n",
    "print(f'Length of the tuple: {tuple_length}')"
   ]
  },
  {
   "cell_type": "code",
   "execution_count": 13,
   "id": "fabcdf43",
   "metadata": {},
   "outputs": [
    {
     "name": "stdout",
     "output_type": "stream",
     "text": [
      "[1, 2, 3, 4, 5]\n"
     ]
    }
   ],
   "source": [
    "# Create a tuple of five numbers and convert it into a list.\n",
    "numbers_tuple = (1, 2, 3, 4, 5)\n",
    "numbers_list = list(numbers_tuple)\n",
    "print(numbers_list)"
   ]
  },
  {
   "cell_type": "code",
   "execution_count": 14,
   "id": "1e36d6c7",
   "metadata": {},
   "outputs": [
    {
     "name": "stdout",
     "output_type": "stream",
     "text": [
      "Maximum value: 89\n",
      "Minimum value: 7\n"
     ]
    }
   ],
   "source": [
    "# Given a tuple of numbers, find and print the maximum and minimum values.\n",
    "numbers = (12, 45, 7, 89, 34, 22)\n",
    "\n",
    "max_value = max(numbers)\n",
    "min_value = min(numbers)\n",
    "\n",
    "print(f\"Maximum value: {max_value}\")\n",
    "print(f\"Minimum value: {min_value}\")"
   ]
  },
  {
   "cell_type": "code",
   "execution_count": 15,
   "id": "16cce8df",
   "metadata": {},
   "outputs": [
    {
     "name": "stdout",
     "output_type": "stream",
     "text": [
      "('elderberry', 'date', 'cherry', 'banana', 'apple')\n"
     ]
    }
   ],
   "source": [
    "# Create a tuple of words and print it in reverse order.\n",
    "words = (\"apple\", \"banana\", \"cherry\", \"date\", \"elderberry\")\n",
    "\n",
    "reversed_words = words[::-1]\n",
    "print(reversed_words)"
   ]
  }
 ],
 "metadata": {
  "kernelspec": {
   "display_name": "Python 3",
   "language": "python",
   "name": "python3"
  },
  "language_info": {
   "codemirror_mode": {
    "name": "ipython",
    "version": 3
   },
   "file_extension": ".py",
   "mimetype": "text/x-python",
   "name": "python",
   "nbconvert_exporter": "python",
   "pygments_lexer": "ipython3",
   "version": "3.12.10"
  }
 },
 "nbformat": 4,
 "nbformat_minor": 5
}
